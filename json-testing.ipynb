{
 "cells": [
  {
   "metadata": {
    "ExecuteTime": {
     "end_time": "2025-09-19T11:23:04.330859400Z",
     "start_time": "2025-09-19T11:22:58.385953200Z"
    }
   },
   "cell_type": "code",
   "source": [
    "@file:DependsOn(\"org.docx4j:docx4j-JAXB-ReferenceImpl:11.5.4\")\n",
    "@file:DependsOn(\"org.mvel:mvel2:2.5.0.Final\")"
   ],
   "outputs": [],
   "execution_count": 1
  },
  {
   "metadata": {},
   "cell_type": "markdown",
   "source": "Create sample JSON string with objects, arrays and primitive types (string, boolean, numbers)"
  },
  {
   "metadata": {
    "ExecuteTime": {
     "end_time": "2025-09-19T11:23:07.115842800Z",
     "start_time": "2025-09-19T11:23:06.477423Z"
    }
   },
   "cell_type": "code",
   "source": [
    "val sample = \"\"\"\n",
    "{\n",
    "  \"orderId\": \"ORD-2025-09-15-001\",\n",
    "  \"total\": 149.99,\n",
    "  \"orderedAt\": \"2025-09-15T14:30:00Z\",\n",
    "  \"customer\": {\n",
    "    \"name\": \"Alice Smith\",\n",
    "    \"age\": 30,\n",
    "    \"vip\": true\n",
    "  },\n",
    "  \"items\": [\n",
    "    {\n",
    "      \"sku\": \"KB-2025-B\",\n",
    "      \"desc\": \"Mechanical keyboard\",\n",
    "      \"qty\": 1,\n",
    "      \"unitPrice\": 119.99\n",
    "    },\n",
    "    {\n",
    "      \"sku\": \"MS-2025-X\",\n",
    "      \"desc\": \"Wireless mouse\",\n",
    "      \"qty\": 2,\n",
    "      \"unitPrice\": 15.00\n",
    "    }\n",
    "  ]\n",
    "}\n",
    "\"\"\".trimIndent()"
   ],
   "outputs": [],
   "execution_count": 2
  },
  {
   "metadata": {},
   "cell_type": "markdown",
   "source": "Parse JSON to JsonElement"
  },
  {
   "metadata": {
    "ExecuteTime": {
     "end_time": "2025-09-19T11:23:16.670277700Z",
     "start_time": "2025-09-19T11:23:16.442886300Z"
    }
   },
   "cell_type": "code",
   "source": [
    "import kotlinx.serialization.json.Json\n",
    "\n",
    "val root = Json.parseToJsonElement(sample)"
   ],
   "outputs": [],
   "execution_count": 4
  },
  {
   "metadata": {},
   "cell_type": "markdown",
   "source": "Create template text with MVEL syntax and custom fields like \\\\${field} \\\\${object.field} \\@{foreach....}"
  },
  {
   "metadata": {
    "ExecuteTime": {
     "end_time": "2025-09-19T11:23:19.136384800Z",
     "start_time": "2025-09-19T11:23:19.054604900Z"
    }
   },
   "cell_type": "code",
   "source": [
    "val templateString = \"\"\"\n",
    "Order No: ${'$'}{orderId} ordered at ${'$'}{orderedAt}\n",
    "Customer: ${'$'}{customer.name} (${'$'}{customer.age} years old) ${'$'}{customer.vip == true ? 'is VIP' : 'regular'}\n",
    "Items:\n",
    "@foreach{item : items}\n",
    "  - @{item.sku}: @{item.desc} x@{item.qty} @ @{item.unitPrice} = @{item.qty * item.unitPrice}\n",
    "@end{}\n",
    "===================================================\n",
    "TOTAL: ${'$'}{total}\n",
    "\"\"\".trimIndent()"
   ],
   "outputs": [],
   "execution_count": 5
  },
  {
   "metadata": {},
   "cell_type": "markdown",
   "source": "Helper function to map JsonElement to plain Kotlin types"
  },
  {
   "metadata": {
    "ExecuteTime": {
     "end_time": "2025-09-19T11:23:33.528791900Z",
     "start_time": "2025-09-19T11:23:32.222276100Z"
    }
   },
   "cell_type": "code",
   "source": [
    "import kotlinx.serialization.json.*\n",
    "\n",
    "fun JsonElement.toPlain(): Any? = when (this) {\n",
    "    is JsonObject -> this.mapValues { it.value.toPlain() }\n",
    "    is JsonArray -> this.map { it.toPlain() }\n",
    "    is JsonPrimitive -> when {\n",
    "        this.isString -> this.content\n",
    "        this.booleanOrNull != null -> this.boolean\n",
    "        this.doubleOrNull != null -> this.double\n",
    "        else -> this.content\n",
    "    }\n",
    "    JsonNull -> null\n",
    "}\n",
    "\n",
    "val context = root.toPlain()\n",
    "println(context)"
   ],
   "outputs": [
    {
     "name": "stdout",
     "output_type": "stream",
     "text": [
      "{orderId=ORD-2025-09-15-001, total=149.99, orderedAt=2025-09-15T14:30:00Z, customer={name=Alice Smith, age=30.0, vip=true}, items=[{sku=KB-2025-B, desc=Mechanical keyboard, qty=1.0, unitPrice=119.99}, {sku=MS-2025-X, desc=Wireless mouse, qty=2.0, unitPrice=15.0}]}\r\n"
     ]
    }
   ],
   "execution_count": 6
  },
  {
   "metadata": {},
   "cell_type": "markdown",
   "source": [
    "Now, MVEL magic with two steps:\n",
    "1. Compile template to context for evaluation\n",
    "2. Execute template with context"
   ]
  },
  {
   "metadata": {
    "ExecuteTime": {
     "end_time": "2025-09-19T11:23:45.286901400Z",
     "start_time": "2025-09-19T11:23:44.603728700Z"
    }
   },
   "cell_type": "code",
   "source": [
    "import org.mvel2.templates.TemplateCompiler\n",
    "import org.mvel2.templates.TemplateRuntime\n",
    "\n",
    "val compiled = TemplateCompiler.compileTemplate(templateString)\n",
    "val mergedString = TemplateRuntime.execute(compiled, context)\n",
    "\n",
    "println(mergedString)"
   ],
   "outputs": [
    {
     "name": "stdout",
     "output_type": "stream",
     "text": [
      "Order No: ORD-2025-09-15-001 ordered at 2025-09-15T14:30:00Z\n",
      "Customer: Alice Smith (30.0 years old) is VIP\n",
      "Items:\n",
      "\n",
      "  - KB-2025-B: Mechanical keyboard x1.0 @ 119.99 = 119.99\n",
      "\n",
      "  - MS-2025-X: Wireless mouse x2.0 @ 15.0 = 30.0\n",
      "\n",
      "===================================================\n",
      "TOTAL: 149.99\r\n"
     ]
    }
   ],
   "execution_count": 7
  }
 ],
 "metadata": {
  "kernelspec": {
   "display_name": "Kotlin",
   "language": "kotlin",
   "name": "kotlin"
  },
  "language_info": {
   "name": "kotlin",
   "version": "2.2.20-Beta2",
   "mimetype": "text/x-kotlin",
   "file_extension": ".kt",
   "pygments_lexer": "kotlin",
   "codemirror_mode": "text/x-kotlin",
   "nbconvert_exporter": ""
  },
  "ktnbPluginMetadata": {
   "projectLibraries": true
  }
 },
 "nbformat": 4,
 "nbformat_minor": 0
}
