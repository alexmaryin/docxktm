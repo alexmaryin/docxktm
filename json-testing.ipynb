{
 "cells": [
  {
   "metadata": {
    "ExecuteTime": {
     "end_time": "2025-09-15T16:58:46.689738Z",
     "start_time": "2025-09-15T16:58:46.644635Z"
    }
   },
   "cell_type": "code",
   "source": [
    "import kotlinx.serialization.json.Json\n",
    "import kotlinx.serialization.json.JsonArray\n",
    "import kotlinx.serialization.json.JsonElement\n",
    "import kotlinx.serialization.json.JsonNull\n",
    "import kotlinx.serialization.json.JsonObject\n",
    "import kotlinx.serialization.json.JsonPrimitive\n",
    "import kotlinx.serialization.json.boolean\n",
    "import kotlinx.serialization.json.booleanOrNull\n",
    "import kotlinx.serialization.json.double\n",
    "import kotlinx.serialization.json.doubleOrNull\n",
    "import kotlinx.serialization.json.jsonArray\n",
    "import org.mvel2.MVEL.eval\n",
    "import org.mvel2.CompileException\n",
    "import org.mvel2.templates.TemplateCompiler\n",
    "import org.mvel2.templates.TemplateRuntime"
   ],
   "outputs": [],
   "execution_count": 1
  },
  {
   "metadata": {},
   "cell_type": "markdown",
   "source": "Create sample JSON string with objects, arrays and primitive types (string, boolean, numbers)"
  },
  {
   "metadata": {
    "ExecuteTime": {
     "end_time": "2025-09-15T16:58:49.711684Z",
     "start_time": "2025-09-15T16:58:49.655817Z"
    }
   },
   "cell_type": "code",
   "source": [
    "val sample = \"\"\"\n",
    "{\n",
    "  \"orderId\": \"ORD-2025-09-15-001\",\n",
    "  \"total\": 149.99,\n",
    "  \"orderedAt\": \"2025-09-15T14:30:00Z\",\n",
    "  \"customer\": {\n",
    "    \"name\": \"Alice Smith\",\n",
    "    \"age\": 30,\n",
    "    \"vip\": true\n",
    "  },\n",
    "  \"items\": [\n",
    "    {\n",
    "      \"sku\": \"KB-2025-B\",\n",
    "      \"desc\": \"Mechanical keyboard\",\n",
    "      \"qty\": 1,\n",
    "      \"unitPrice\": 119.99\n",
    "    },\n",
    "    {\n",
    "      \"sku\": \"MS-2025-X\",\n",
    "      \"desc\": \"Wireless mouse\",\n",
    "      \"qty\": 2,\n",
    "      \"unitPrice\": 15.00\n",
    "    }\n",
    "  ]\n",
    "}\n",
    "\"\"\".trimIndent()"
   ],
   "outputs": [],
   "execution_count": 2
  },
  {
   "metadata": {},
   "cell_type": "markdown",
   "source": "Parse JSON to JsonElement"
  },
  {
   "metadata": {
    "ExecuteTime": {
     "end_time": "2025-09-15T16:58:53.819449Z",
     "start_time": "2025-09-15T16:58:53.787027Z"
    }
   },
   "cell_type": "code",
   "source": "val root = Json.parseToJsonElement(sample)",
   "outputs": [],
   "execution_count": 3
  },
  {
   "metadata": {},
   "cell_type": "markdown",
   "source": "Create template text with MVEL syntax and custom fields like \\\\${field} \\\\${object.field} \\@{foreach....}"
  },
  {
   "metadata": {
    "ExecuteTime": {
     "end_time": "2025-09-15T16:58:57.151994Z",
     "start_time": "2025-09-15T16:58:57.121304Z"
    }
   },
   "cell_type": "code",
   "source": [
    "val templateString = \"\"\"\n",
    "Order No: ${'$'}{orderId} ordered at ${'$'}{orderedAt}\n",
    "Customer: ${'$'}{customer.name} (${'$'}{customer.age} years old) ${'$'}{customer.vip == true ? 'is VIP' : 'regular'}\n",
    "Items:\n",
    "@foreach{item : items}\n",
    "  - ${'$'}{item.sku}: ${'$'}{item.desc} x${'$'}{item.qty} @ ${'$'}{item.unitPrice} = ${'$'}{item.qty * item.unitPrice}\n",
    "@end{}\n",
    "===================================================\n",
    "TOTAL: ${'$'}{total}\n",
    "\"\"\".trimIndent()"
   ],
   "outputs": [],
   "execution_count": 4
  },
  {
   "metadata": {},
   "cell_type": "markdown",
   "source": "Helper function to map JsonElement to plain Kotlin types"
  },
  {
   "metadata": {
    "ExecuteTime": {
     "end_time": "2025-09-15T16:59:01.004058Z",
     "start_time": "2025-09-15T16:59:00.740823Z"
    }
   },
   "cell_type": "code",
   "source": [
    "fun JsonElement.toPlain(): Any? = when (this) {\n",
    "    is JsonObject -> this.mapValues { it.value.toPlain() }\n",
    "    is JsonArray -> this.map { it.toPlain() }\n",
    "    is JsonPrimitive -> when {\n",
    "        this.isString -> this.content\n",
    "        this.booleanOrNull != null -> this.boolean\n",
    "        this.doubleOrNull != null -> this.double\n",
    "        else -> this.content\n",
    "    }\n",
    "    JsonNull -> null\n",
    "}\n",
    "\n",
    "val context = root.toPlain()\n",
    "println(context)"
   ],
   "outputs": [
    {
     "name": "stdout",
     "output_type": "stream",
     "text": [
      "{orderId=ORD-2025-09-15-001, total=149.99, orderedAt=2025-09-15T14:30:00Z, customer={name=Alice Smith, age=30.0, vip=true}, items=[{sku=KB-2025-B, desc=Mechanical keyboard, qty=1.0, unitPrice=119.99}, {sku=MS-2025-X, desc=Wireless mouse, qty=2.0, unitPrice=15.0}]}\n"
     ]
    }
   ],
   "execution_count": 5
  },
  {
   "metadata": {},
   "cell_type": "markdown",
   "source": [
    "Now, MVEL magic with two steps:\n",
    "1. Compile template to context for evaluation\n",
    "2. Execute template with context"
   ]
  },
  {
   "metadata": {
    "ExecuteTime": {
     "end_time": "2025-09-15T16:59:05.799147Z",
     "start_time": "2025-09-15T16:59:05.721850Z"
    }
   },
   "cell_type": "code",
   "source": [
    "val compiled = TemplateCompiler.compileTemplate(templateString)\n",
    "val mergedString = TemplateRuntime.execute(compiled, context)\n",
    "\n",
    "println(mergedString)"
   ],
   "outputs": [
    {
     "name": "stdout",
     "output_type": "stream",
     "text": [
      "Order No: ORD-2025-09-15-001 ordered at 2025-09-15T14:30:00Z\n",
      "Customer: Alice Smith (30.0 years old) is VIP\n",
      "Items:\n",
      "\n",
      "  - KB-2025-B: Mechanical keyboard x1.0 @ 119.99 = 119.99\n",
      "\n",
      "  - MS-2025-X: Wireless mouse x2.0 @ 15.0 = 30.0\n",
      "\n",
      "===================================================\n",
      "TOTAL: 149.99\n"
     ]
    }
   ],
   "execution_count": 6
  }
 ],
 "metadata": {
  "kernelspec": {
   "display_name": "Kotlin",
   "language": "kotlin",
   "name": "kotlin"
  },
  "language_info": {
   "name": "kotlin",
   "version": "2.2.20-Beta2",
   "mimetype": "text/x-kotlin",
   "file_extension": ".kt",
   "pygments_lexer": "kotlin",
   "codemirror_mode": "text/x-kotlin",
   "nbconvert_exporter": ""
  },
  "ktnbPluginMetadata": {
   "projectLibraries": true
  }
 },
 "nbformat": 4,
 "nbformat_minor": 0
}
