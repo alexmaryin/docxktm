{
 "cells": [
  {
   "metadata": {},
   "cell_type": "markdown",
   "source": "## The following code supposed to demonstrate how it easy to replace a Java docx4j wall of code with tiny DSL of DocxKtm"
  },
  {
   "metadata": {},
   "cell_type": "markdown",
   "source": [
    "Suppose we want to create docx with several paragraphs with random text, footer with page numbers anf a table with some rows and cells.\n",
    "How it would look in pure docx4j:"
   ]
  },
  {
   "cell_type": "code",
   "execution_count": null,
   "metadata": {
    "collapsed": true
   },
   "outputs": [],
   "source": [
    "fun main() {\n",
    "    val wordMLPackage = WordprocessingMLPackage.createPackage()\n",
    "    val mainDocumentPart = wordMLPackage.mainDocumentPart\n",
    "    val factory = Context.getWmlObjectFactory()\n",
    "\n",
    "    // --- Footer with page numbers ---\n",
    "    val footerPart = FooterPart(PartName(\"/word/footer1.xml\"))\n",
    "    val footer = factory.createFooter()\n",
    "\n",
    "    val p = factory.createP()\n",
    "    val r = factory.createR()\n",
    "    val fldCharBegin = factory.createFldChar().apply { fldCharType = STFldCharType.BEGIN }\n",
    "    val fldCharSeparate = factory.createFldChar().apply { fldCharType = STFldCharType.SEPARATE }\n",
    "    val fldCharEnd = factory.createFldChar().apply { fldCharType = STFldCharType.END }\n",
    "\n",
    "    fun createInstrText(value: String): R {\n",
    "        val run = factory.createR()\n",
    "        val instr = factory.createText().apply {\n",
    "            this.value = value\n",
    "            this.space = \"preserve\"\n",
    "        }\n",
    "        run.content.add(factory.createRInstrText(instr))\n",
    "        return run\n",
    "    }\n",
    "\n",
    "    r.content.add(factory.createRFldChar(fldCharBegin))\n",
    "    r.content.add(createInstrText(\" PAGE \"))\n",
    "    r.content.add(factory.createRFldChar(fldCharSeparate))\n",
    "    r.content.add(factory.createRFldChar(fldCharEnd))\n",
    "\n",
    "    val r2 = factory.createR()\n",
    "    r2.content.add(factory.createText(\" of \"))\n",
    "\n",
    "    val r3 = factory.createR()\n",
    "    r3.content.add(factory.createRFldChar(factory.createFldChar().apply { fldCharType = STFldCharType.BEGIN }))\n",
    "    r3.content.add(createInstrText(\" NUMPAGES \"))\n",
    "    r3.content.add(factory.createRFldChar(factory.createFldChar().apply { fldCharType = STFldCharType.SEPARATE }))\n",
    "    r3.content.add(factory.createRFldChar(factory.createFldChar().apply { fldCharType = STFldCharType.END }))\n",
    "\n",
    "    p.content.add(r)\n",
    "    p.content.add(r2)\n",
    "    p.content.add(r3)\n",
    "\n",
    "    // Center paragraph\n",
    "    val pPr = factory.createPPr()\n",
    "    val jc = factory.createJc()\n",
    "    jc.`val` = JcEnumeration.CENTER\n",
    "    pPr.jc = jc\n",
    "    p.pPr = pPr\n",
    "\n",
    "    footer.content.add(p)\n",
    "    footerPart.jaxbElement = footer\n",
    "    wordMLPackage.mainDocumentPart.addTargetPart(footerPart)\n",
    "\n",
    "    val sectPr = factory.createSectPr()\n",
    "    val footerRef = factory.createFooterReference()\n",
    "    footerRef.id = footerPart.relationshipsPart.relationships[0].id\n",
    "    footerRef.type = HdrFtrRef.DEFAULT\n",
    "    sectPr.footerReference.add(footerRef)\n",
    "    mainDocumentPart.document.body.sectPr = sectPr\n",
    "\n",
    "    // --- Random paragraphs ---\n",
    "    repeat(5) {\n",
    "        val para = factory.createP()\n",
    "        val run = factory.createR()\n",
    "        val text = factory.createText()\n",
    "        text.value = \"This is random text paragraph #${it + 1}. Lorem ipsum dolor sit amet.\"\n",
    "        run.content.add(text)\n",
    "        para.content.add(run)\n",
    "        mainDocumentPart.addObject(para)\n",
    "    }\n",
    "\n",
    "    // --- Table with random numbers ---\n",
    "    val tbl = factory.createTbl()\n",
    "    val borders = factory.createCTTblBorders().apply {\n",
    "        top = factory.createCTBorder().apply { `val` = STBorder.SINGLE }\n",
    "        bottom = factory.createCTBorder().apply { `val` = STBorder.SINGLE }\n",
    "        left = factory.createCTBorder().apply { `val` = STBorder.SINGLE }\n",
    "        right = factory.createCTBorder().apply { `val` = STBorder.SINGLE }\n",
    "        insideH = factory.createCTBorder().apply { `val` = STBorder.SINGLE }\n",
    "        insideV = factory.createCTBorder().apply { `val` = STBorder.SINGLE }\n",
    "    }\n",
    "    val tblPr = factory.createTblPr()\n",
    "    tblPr.tblBorders = borders\n",
    "    tbl.tblPr = tblPr\n",
    "\n",
    "    repeat(3) {\n",
    "        val tr = factory.createTr()\n",
    "        repeat(5) {\n",
    "            val tc = factory.createTc()\n",
    "            val para = factory.createP()\n",
    "            val run = factory.createR()\n",
    "            val text = factory.createText()\n",
    "            text.value = Random.nextInt(1, 100).toString()\n",
    "            run.content.add(text)\n",
    "            para.content.add(run)\n",
    "            tc.content.add(para)\n",
    "            tr.content.add(tc)\n",
    "        }\n",
    "        tbl.content.add(tr)\n",
    "    }\n",
    "    mainDocumentPart.addObject(tbl)\n",
    "\n",
    "    // --- Save the file ---\n",
    "    wordMLPackage.save(File(\"example.docx\"))\n",
    "}\n"
   ]
  },
  {
   "metadata": {},
   "cell_type": "markdown",
   "source": "And that is how we replace this with DocxKtm DSL:"
  },
  {
   "metadata": {
    "ExecuteTime": {
     "end_time": "2025-09-20T19:57:24.336391Z",
     "start_time": "2025-09-20T19:57:10.386911Z"
    }
   },
   "cell_type": "code",
   "source": "@file:DependsOn(\"io.github.alexmaryin:docxktm:1.3.1\")",
   "outputs": [],
   "execution_count": 1
  },
  {
   "metadata": {
    "ExecuteTime": {
     "end_time": "2025-09-20T20:11:08.717335Z",
     "start_time": "2025-09-20T20:11:08.641573Z"
    }
   },
   "cell_type": "code",
   "source": [
    "import io.github.alexmaryin.docxktm.DocxNew\n",
    "import io.github.alexmaryin.docxktm.extensions.body\n",
    "import io.github.alexmaryin.docxktm.extensions.footer\n",
    "import io.github.alexmaryin.docxktm.models.ParagraphStyle\n",
    "import io.github.alexmaryin.docxktm.models.TextStyle\n",
    "import io.github.alexmaryin.docxktm.parts.paragraph\n",
    "import io.github.alexmaryin.docxktm.parts.table\n",
    "import io.github.alexmaryin.docxktm.parts.text\n",
    "import io.github.alexmaryin.docxktm.values.Alignment\n",
    "import java.io.File\n",
    "import kotlin.random.Random\n",
    "import kotlin.random.nextInt\n",
    "\n",
    "DocxNew(\"sample.docx\") {\n",
    "    body {\n",
    "        repeat(5) { num ->\n",
    "            paragraph { text(\"This is random text paragraph #${num + 1}. Lorem ipsum dolor sit amet.\") }\n",
    "        }\n",
    "        table {\n",
    "            repeat(3) {\n",
    "                row {\n",
    "                    repeat(5) {\n",
    "                        textInCell(Random.nextInt(100).toString())\n",
    "                    }\n",
    "                }\n",
    "            }\n",
    "        }\n",
    "    }\n",
    "    footer(ParagraphStyle(alignment = Alignment.CENTER)) {\n",
    "        pageNumber(\"page #p of #t\")\n",
    "    }\n",
    "}"
   ],
   "outputs": [
    {
     "name": "stdout",
     "output_type": "stream",
     "text": [
      "/Users/java73/IdeaProjects/docxktm//sample.docx\n"
     ]
    }
   ],
   "execution_count": 6
  }
 ],
 "metadata": {
  "kernelspec": {
   "display_name": "Kotlin",
   "language": "kotlin",
   "name": "kotlin"
  },
  "language_info": {
   "name": "kotlin",
   "version": "2.2.20-Beta2",
   "mimetype": "text/x-kotlin",
   "file_extension": ".kt",
   "pygments_lexer": "kotlin",
   "codemirror_mode": "text/x-kotlin",
   "nbconvert_exporter": ""
  },
  "ktnbPluginMetadata": {
   "projectLibraries": false,
   "projectDependencies": [
    "docxktm.main"
   ]
  }
 },
 "nbformat": 4,
 "nbformat_minor": 0
}
